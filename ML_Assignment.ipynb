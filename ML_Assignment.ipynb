{
  "cells": [
    {
      "cell_type": "markdown",
      "id": "e20927ed",
      "metadata": {
        "id": "e20927ed"
      },
      "source": [
        "# Question#1"
      ]
    },
    {
      "cell_type": "code",
      "execution_count": null,
      "id": "64a161f9",
      "metadata": {
        "id": "64a161f9"
      },
      "outputs": [],
      "source": [
        "l = [5, 2, 200000, 36, 2, 5, 2]\n",
        "from collections import Counter"
      ]
    },
    {
      "cell_type": "code",
      "execution_count": null,
      "id": "e5d0c16c",
      "metadata": {
        "id": "e5d0c16c"
      },
      "outputs": [],
      "source": [
        "def frequency_sorted_list(l):\n",
        "    sort_l = sorted(l, key=l.count, reverse=True) # sort the list descending order\n",
        "    return dict(Counter(sort_l)) # get the frquency through Counter objetcs"
      ]
    },
    {
      "cell_type": "code",
      "execution_count": null,
      "id": "f1883536",
      "metadata": {
        "id": "f1883536",
        "outputId": "957b1830-5dbd-4b7d-b030-a8761afc9ba8"
      },
      "outputs": [
        {
          "data": {
            "text/plain": [
              "{2: 3, 5: 2, 200000: 1, 36: 1}"
            ]
          },
          "execution_count": 3,
          "metadata": {},
          "output_type": "execute_result"
        }
      ],
      "source": [
        "frequency_sorted_list(l)"
      ]
    },
    {
      "cell_type": "markdown",
      "id": "8542a891",
      "metadata": {
        "id": "8542a891"
      },
      "source": [
        "# Question#2"
      ]
    },
    {
      "cell_type": "code",
      "execution_count": null,
      "id": "17a02755",
      "metadata": {
        "id": "17a02755"
      },
      "outputs": [],
      "source": [
        "haystack = '''Hello World\n",
        "I am going to school\n",
        "with apples in my bag\n",
        "Great !'''\n",
        "needles =  ['or', 'pl', 'Going', 'great !']"
      ]
    },
    {
      "cell_type": "code",
      "execution_count": null,
      "id": "598b616c",
      "metadata": {
        "id": "598b616c",
        "outputId": "bbf7987f-898c-48a9-85bd-53b258bb25c9"
      },
      "outputs": [
        {
          "data": {
            "text/plain": [
              "['or', 'pl', 'Going', 'great']"
            ]
          },
          "execution_count": 5,
          "metadata": {},
          "output_type": "execute_result"
        }
      ],
      "source": [
        "import string # for removing punctuations\n",
        "needles = [''.join(letter for letter in word if letter not in string.punctuation).strip() \\\n",
        "           for word in needles] # remove punctuations from words and extra white space\n",
        "needles"
      ]
    },
    {
      "cell_type": "code",
      "execution_count": null,
      "id": "c4be89a5",
      "metadata": {
        "id": "c4be89a5",
        "outputId": "acb83838-b91a-48b7-b4b0-e8b7f6e1a0d3"
      },
      "outputs": [
        {
          "data": {
            "text/plain": [
              "['hello world', 'i am going to school', 'with apples in my bag', 'great']"
            ]
          },
          "execution_count": 6,
          "metadata": {},
          "output_type": "execute_result"
        }
      ],
      "source": [
        "paragraphs = haystack.split('\\n') # split the text through next line\n",
        "paragraphs = list(map(str.lower,paragraphs)) # low all the text words\n",
        "paragraphs = [''.join(letter for letter in word if letter not in string.punctuation).strip() \\\n",
        "              for word in paragraphs] # remove punctuations from words and extra white space\n",
        "paragraphs"
      ]
    },
    {
      "cell_type": "code",
      "execution_count": null,
      "id": "a280b005",
      "metadata": {
        "id": "a280b005",
        "outputId": "b5bf5302-dc94-4488-a10e-6eec78d4c008"
      },
      "outputs": [
        {
          "name": "stdout",
          "output_type": "stream",
          "text": [
            "Going : i am going to school\n",
            "great : great\n"
          ]
        }
      ],
      "source": [
        "for i in paragraphs:\n",
        "    for j in needles:\n",
        "        if j.lower() in (i.split()):\n",
        "            print(j,\":\",i)"
      ]
    }
  ],
  "metadata": {
    "kernelspec": {
      "display_name": "Python 3 (ipykernel)",
      "language": "python",
      "name": "python3"
    },
    "language_info": {
      "codemirror_mode": {
        "name": "ipython",
        "version": 3
      },
      "file_extension": ".py",
      "mimetype": "text/x-python",
      "name": "python",
      "nbconvert_exporter": "python",
      "pygments_lexer": "ipython3",
      "version": "3.9.7"
    },
    "colab": {
      "provenance": []
    }
  },
  "nbformat": 4,
  "nbformat_minor": 5
}